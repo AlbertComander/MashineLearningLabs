{
 "cells": [
  {
   "cell_type": "markdown",
   "id": "369cb836-b6b7-4cc1-b9d1-d382279a50f1",
   "metadata": {},
   "source": [
    "Подключение библиотек."
   ]
  },
  {
   "cell_type": "code",
   "execution_count": 1,
   "id": "ef4b038f-3a44-4a64-9977-73277c558c9b",
   "metadata": {},
   "outputs": [],
   "source": [
    "import numpy as np\n",
    "from sklearn.metrics import accuracy_score\n",
    "import tensorflow as tf\n",
    "import keras\n",
    "import keras.models as M\n",
    "import keras.layers as L\n",
    "import keras.backend as K"
   ]
  },
  {
   "cell_type": "markdown",
   "id": "663bda1c-125f-4bca-998e-5068eea66cc9",
   "metadata": {},
   "source": [
    "Загрузка датасета Fashion MNIST"
   ]
  },
  {
   "cell_type": "code",
   "execution_count": 2,
   "id": "b3a902ad-2187-4d40-b1fe-66c71555d0ab",
   "metadata": {},
   "outputs": [
    {
     "name": "stdout",
     "output_type": "stream",
     "text": [
      "Downloading data from https://storage.googleapis.com/tensorflow/tf-keras-datasets/train-labels-idx1-ubyte.gz\n",
      "\u001b[1m29515/29515\u001b[0m \u001b[32m━━━━━━━━━━━━━━━━━━━━\u001b[0m\u001b[37m\u001b[0m \u001b[1m0s\u001b[0m 4us/step\n",
      "Downloading data from https://storage.googleapis.com/tensorflow/tf-keras-datasets/train-images-idx3-ubyte.gz\n",
      "\u001b[1m26421880/26421880\u001b[0m \u001b[32m━━━━━━━━━━━━━━━━━━━━\u001b[0m\u001b[37m\u001b[0m \u001b[1m12s\u001b[0m 0us/step\n",
      "Downloading data from https://storage.googleapis.com/tensorflow/tf-keras-datasets/t10k-labels-idx1-ubyte.gz\n",
      "\u001b[1m5148/5148\u001b[0m \u001b[32m━━━━━━━━━━━━━━━━━━━━\u001b[0m\u001b[37m\u001b[0m \u001b[1m0s\u001b[0m 1us/step\n",
      "Downloading data from https://storage.googleapis.com/tensorflow/tf-keras-datasets/t10k-images-idx3-ubyte.gz\n",
      "\u001b[1m4422102/4422102\u001b[0m \u001b[32m━━━━━━━━━━━━━━━━━━━━\u001b[0m\u001b[37m\u001b[0m \u001b[1m3s\u001b[0m 1us/step\n"
     ]
    }
   ],
   "source": [
    "(x_train, y_train), (x_val, y_val) = tf.keras.datasets.fashion_mnist.load_data()"
   ]
  },
  {
   "cell_type": "markdown",
   "id": "4232f52c-29a4-4cf9-bc29-310aa7cfa0a0",
   "metadata": {},
   "source": [
    "Преобразование правильных ответов в вектор"
   ]
  },
  {
   "cell_type": "code",
   "execution_count": 3,
   "id": "53649526-685e-41b5-9e50-06a9bbff0fce",
   "metadata": {},
   "outputs": [],
   "source": [
    "y_train_oh = keras.utils.to_categorical(y_train, 10)\n",
    "y_val_oh = keras.utils.to_categorical(y_val, 10)"
   ]
  },
  {
   "cell_type": "markdown",
   "id": "0cd7c222-ab08-4e3d-81f6-f900bad9832a",
   "metadata": {},
   "source": [
    "Сборка модели"
   ]
  },
  {
   "cell_type": "code",
   "execution_count": null,
   "id": "91e32260-2245-4a72-a2df-5239f349a9cb",
   "metadata": {},
   "outputs": [],
   "source": [
    "K.clear_session()\n",
    "model = M.Sequential()\n",
    "model.add(L.Dense(128, input_dim=784, activation='elu'))\n",
    "model.add(L.Dense(128, activation='elu'))\n",
    "model.add(L.Dense(10, activation='softmax'))"
   ]
  },
  {
   "cell_type": "code",
   "execution_count": 5,
   "id": "0e40690d-ed4a-496b-8062-2311ec677439",
   "metadata": {},
   "outputs": [],
   "source": [
    "model.compile(\n",
    "    loss='categorical_crossentropy',\n",
    "    optimizer='adam',\n",
    "    metrics=['accuracy']\n",
    ")"
   ]
  },
  {
   "cell_type": "markdown",
   "id": "6f48f5e3-8334-4d40-9f55-32047c5011f0",
   "metadata": {},
   "source": [
    "Нормализация входных данных"
   ]
  },
  {
   "cell_type": "code",
   "execution_count": 6,
   "id": "5d78484f-e9bd-42b1-91a8-349b0a7328fe",
   "metadata": {},
   "outputs": [],
   "source": [
    "x_train_float = x_train.astype(float) / 255 - 0.5\n",
    "x_val_float = x_val.astype(float) / 255 - 0.5"
   ]
  },
  {
   "cell_type": "markdown",
   "id": "759c95ff-0a11-480f-b95e-7f6fb6c5ea09",
   "metadata": {},
   "source": [
    "Обучение модели"
   ]
  },
  {
   "cell_type": "code",
   "execution_count": 7,
   "id": "62724d46-7404-4055-98a3-163361a024a1",
   "metadata": {},
   "outputs": [
    {
     "name": "stdout",
     "output_type": "stream",
     "text": [
      "Epoch 1/10\n",
      "\u001b[1m938/938\u001b[0m \u001b[32m━━━━━━━━━━━━━━━━━━━━\u001b[0m\u001b[37m\u001b[0m \u001b[1m41s\u001b[0m 10ms/step - accuracy: 0.7740 - loss: 0.6287 - val_accuracy: 0.8463 - val_loss: 0.4295\n",
      "Epoch 2/10\n",
      "\u001b[1m938/938\u001b[0m \u001b[32m━━━━━━━━━━━━━━━━━━━━\u001b[0m\u001b[37m\u001b[0m \u001b[1m10s\u001b[0m 4ms/step - accuracy: 0.8591 - loss: 0.3887 - val_accuracy: 0.8577 - val_loss: 0.3941\n",
      "Epoch 3/10\n",
      "\u001b[1m938/938\u001b[0m \u001b[32m━━━━━━━━━━━━━━━━━━━━\u001b[0m\u001b[37m\u001b[0m \u001b[1m4s\u001b[0m 4ms/step - accuracy: 0.8727 - loss: 0.3447 - val_accuracy: 0.8563 - val_loss: 0.3860\n",
      "Epoch 4/10\n",
      "\u001b[1m938/938\u001b[0m \u001b[32m━━━━━━━━━━━━━━━━━━━━\u001b[0m\u001b[37m\u001b[0m \u001b[1m4s\u001b[0m 4ms/step - accuracy: 0.8830 - loss: 0.3163 - val_accuracy: 0.8648 - val_loss: 0.3785\n",
      "Epoch 5/10\n",
      "\u001b[1m938/938\u001b[0m \u001b[32m━━━━━━━━━━━━━━━━━━━━\u001b[0m\u001b[37m\u001b[0m \u001b[1m4s\u001b[0m 5ms/step - accuracy: 0.8900 - loss: 0.2963 - val_accuracy: 0.8692 - val_loss: 0.3708\n",
      "Epoch 6/10\n",
      "\u001b[1m938/938\u001b[0m \u001b[32m━━━━━━━━━━━━━━━━━━━━\u001b[0m\u001b[37m\u001b[0m \u001b[1m5s\u001b[0m 4ms/step - accuracy: 0.8932 - loss: 0.2841 - val_accuracy: 0.8601 - val_loss: 0.3978\n",
      "Epoch 7/10\n",
      "\u001b[1m938/938\u001b[0m \u001b[32m━━━━━━━━━━━━━━━━━━━━\u001b[0m\u001b[37m\u001b[0m \u001b[1m4s\u001b[0m 5ms/step - accuracy: 0.9009 - loss: 0.2665 - val_accuracy: 0.8776 - val_loss: 0.3439\n",
      "Epoch 8/10\n",
      "\u001b[1m938/938\u001b[0m \u001b[32m━━━━━━━━━━━━━━━━━━━━\u001b[0m\u001b[37m\u001b[0m \u001b[1m4s\u001b[0m 4ms/step - accuracy: 0.9038 - loss: 0.2534 - val_accuracy: 0.8837 - val_loss: 0.3302\n",
      "Epoch 9/10\n",
      "\u001b[1m938/938\u001b[0m \u001b[32m━━━━━━━━━━━━━━━━━━━━\u001b[0m\u001b[37m\u001b[0m \u001b[1m5s\u001b[0m 4ms/step - accuracy: 0.9084 - loss: 0.2398 - val_accuracy: 0.8786 - val_loss: 0.3467\n",
      "Epoch 10/10\n",
      "\u001b[1m938/938\u001b[0m \u001b[32m━━━━━━━━━━━━━━━━━━━━\u001b[0m\u001b[37m\u001b[0m \u001b[1m4s\u001b[0m 4ms/step - accuracy: 0.9123 - loss: 0.2305 - val_accuracy: 0.8819 - val_loss: 0.3478\n"
     ]
    },
    {
     "data": {
      "text/plain": [
       "<keras.src.callbacks.history.History at 0x2112aa26290>"
      ]
     },
     "execution_count": 7,
     "metadata": {},
     "output_type": "execute_result"
    }
   ],
   "source": [
    "model.fit(\n",
    "    x_train_float.reshape(-1, 28*28),\n",
    "    y_train_oh,\n",
    "    batch_size=64,\n",
    "    epochs=10,\n",
    "    validation_data=(x_val_float.reshape(-1, 28*28), y_val_oh)\n",
    ")"
   ]
  },
  {
   "cell_type": "markdown",
   "id": "a7c6480b-9f47-40bb-b059-34d6d67a6df7",
   "metadata": {},
   "source": [
    "Точность модели составляет примерно 91%"
   ]
  }
 ],
 "metadata": {
  "kernelspec": {
   "display_name": "Python 3 (ipykernel)",
   "language": "python",
   "name": "python3"
  },
  "language_info": {
   "codemirror_mode": {
    "name": "ipython",
    "version": 3
   },
   "file_extension": ".py",
   "mimetype": "text/x-python",
   "name": "python",
   "nbconvert_exporter": "python",
   "pygments_lexer": "ipython3",
   "version": "3.11.8"
  }
 },
 "nbformat": 4,
 "nbformat_minor": 5
}
