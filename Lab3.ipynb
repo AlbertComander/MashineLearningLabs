{
 "cells": [
  {
   "cell_type": "markdown",
   "id": "1a653e20-ef13-46da-99b0-4813519d9a7b",
   "metadata": {},
   "source": [
    "Импорт библиотек."
   ]
  },
  {
   "cell_type": "code",
   "execution_count": 1,
   "id": "cae4e2c8-14ba-44d4-a37b-71caf42164fb",
   "metadata": {},
   "outputs": [],
   "source": [
    "from collections import Counter\n",
    "from ultralytics import YOLO\n",
    "import cv2\n",
    "import os"
   ]
  },
  {
   "cell_type": "markdown",
   "id": "594756f7-aaef-4bbb-82c5-6570141a16c7",
   "metadata": {},
   "source": [
    "Загрузка модели"
   ]
  },
  {
   "cell_type": "code",
   "execution_count": 2,
   "id": "b967d8e3-e1ca-4e03-8810-a33aee514e34",
   "metadata": {},
   "outputs": [
    {
     "name": "stdout",
     "output_type": "stream",
     "text": [
      "YOLOv8s summary (fused): 168 layers, 11156544 parameters, 0 gradients, 28.6 GFLOPs\n"
     ]
    }
   ],
   "source": [
    "model = YOLO(\"Dataset/yolov8s.pt\")\n",
    "model.fuse()"
   ]
  },
  {
   "cell_type": "markdown",
   "id": "8b833777-25b5-4947-a764-b1447ff55a8d",
   "metadata": {},
   "source": [
    "Распознование объектов с видео и веб-камеры."
   ]
  },
  {
   "cell_type": "code",
   "execution_count": null,
   "id": "1e4c4068-40f8-40cd-a58d-4e303fc99368",
   "metadata": {},
   "outputs": [],
   "source": [
    "cap = cv2.VideoCapture(0)\n",
    "confidence_threshold = 0.4\n",
    "while True:\n",
    "    success, frame = cap.read()\n",
    "    results = model(source=frame, show=True, conf = confidence_threshold)\n",
    "    for data in results[0].boxes.data.tolist():\n",
    "        cls = results[0].names[int(data[5])]\n",
    "        xmn, ymn, xmx, ymx, conf = int(data[0]), int(data[1]), int(data[2]), int(data[3]), round(data[4],2)\n",
    "        if conf < confidence_threshold:\n",
    "            continue\n",
    "        cv2.rectangle(frame, (xmn, ymn), (xmx, ymx), color=(0,0,255))\n",
    "        cv2.putText(frame, f\"{cls} {conf}\", org=(xmn, ymn-20), fontFace=cv2.FONT_HERSHEY_SIMPLEX,\n",
    "                    fontScale=1, color=(0, 0, 255), thickness=2)\n",
    "    cv2.imshow(\"Ручное\", frame)\n",
    "    if cv2.waitKey(2) == 27:\n",
    "        break\n",
    "cap.release()\n",
    "cv2.destroyAllWindows()"
   ]
  },
  {
   "cell_type": "code",
   "execution_count": null,
   "id": "a99bcd77-0089-46e1-b389-0d749f97d371",
   "metadata": {},
   "outputs": [],
   "source": [
    "Подсчет точности для фото."
   ]
  },
  {
   "cell_type": "code",
   "execution_count": 6,
   "id": "0889b7e8-d3c8-4ed1-8aaf-7b6893385455",
   "metadata": {},
   "outputs": [
    {
     "name": "stdout",
     "output_type": "stream",
     "text": [
      "\n",
      "image 1/6 C:\\Users\\Acer\\images\\0_2_15.png: 352x640 1 car, 1 cat, 730.2ms\n",
      "image 2/6 C:\\Users\\Acer\\images\\1_42_43_60.jpg: 448x640 1 fork, 1 knife, 1 dining table, 591.6ms\n",
      "image 3/6 C:\\Users\\Acer\\images\\2_46_47_49.jpg: 640x640 1 banana, 1 apple, 1 orange, 717.7ms\n",
      "image 4/6 C:\\Users\\Acer\\images\\3_0_15_16.jpeg: 448x640 1 person, 1 cat, 1 dog, 554.2ms\n",
      "image 5/6 C:\\Users\\Acer\\images\\4_0_7_7.jpg: 384x640 3 persons, 2 trucks, 368.8ms\n",
      "image 6/6 C:\\Users\\Acer\\images\\5_0_57_67.jpg: 448x640 1 person, 1 couch, 1 cell phone, 538.9ms\n",
      "Speed: 5.8ms preprocess, 583.6ms inference, 4.2ms postprocess per image at shape (1, 3, 448, 640)\n",
      "{0: 'person', 1: 'bicycle', 2: 'car', 3: 'motorcycle', 4: 'airplane', 5: 'bus', 6: 'train', 7: 'truck', 8: 'boat', 9: 'traffic light', 10: 'fire hydrant', 11: 'stop sign', 12: 'parking meter', 13: 'bench', 14: 'bird', 15: 'cat', 16: 'dog', 17: 'horse', 18: 'sheep', 19: 'cow', 20: 'elephant', 21: 'bear', 22: 'zebra', 23: 'giraffe', 24: 'backpack', 25: 'umbrella', 26: 'handbag', 27: 'tie', 28: 'suitcase', 29: 'frisbee', 30: 'skis', 31: 'snowboard', 32: 'sports ball', 33: 'kite', 34: 'baseball bat', 35: 'baseball glove', 36: 'skateboard', 37: 'surfboard', 38: 'tennis racket', 39: 'bottle', 40: 'wine glass', 41: 'cup', 42: 'fork', 43: 'knife', 44: 'spoon', 45: 'bowl', 46: 'banana', 47: 'apple', 48: 'sandwich', 49: 'orange', 50: 'broccoli', 51: 'carrot', 52: 'hot dog', 53: 'pizza', 54: 'donut', 55: 'cake', 56: 'chair', 57: 'couch', 58: 'potted plant', 59: 'bed', 60: 'dining table', 61: 'toilet', 62: 'tv', 63: 'laptop', 64: 'mouse', 65: 'remote', 66: 'keyboard', 67: 'cell phone', 68: 'microwave', 69: 'oven', 70: 'toaster', 71: 'sink', 72: 'refrigerator', 73: 'book', 74: 'clock', 75: 'vase', 76: 'scissors', 77: 'teddy bear', 78: 'hair drier', 79: 'toothbrush'}\n",
      "0_2_15.png image prediction accuracy is 100%\n",
      "1_42_43_60.jpg image prediction accuracy is 100%\n",
      "2_46_47_49.jpg image prediction accuracy is 100%\n",
      "3_0_15_16.jpeg image prediction accuracy is 100%\n",
      "4_0_7_7.jpg image prediction accuracy is 60%\n",
      "5_0_57_67.jpg image prediction accuracy is 100%\n",
      "overall accuracy is 93.33%\n"
     ]
    }
   ],
   "source": [
    "results = model('images/')\n",
    "print(model.names)\n",
    "k = 0\n",
    "for result in results:\n",
    "    prediction = result.boxes.cls.numpy()\n",
    "    real = os.path.basename(result.path).split('_')[1:]\n",
    "    real[-1] = real[-1].split('.')[0]\n",
    "    real = list(map(int, real))\n",
    "    intersection = Counter(real) & Counter(prediction)\n",
    "    accuracy = int((sum(intersection.values())/max(len(real),len(prediction)) * 100))\n",
    "    k+=accuracy\n",
    "    print(f'{os.path.basename(result.path)} image prediction accuracy is {accuracy}%')\n",
    "print(f\"overall accuracy is {round(k/len(results),2)}%\")"
   ]
  },
  {
   "cell_type": "code",
   "execution_count": null,
   "id": "e8043a33-53af-4612-a3cc-84d90c216e0a",
   "metadata": {},
   "outputs": [],
   "source": []
  }
 ],
 "metadata": {
  "kernelspec": {
   "display_name": "Python 3 (ipykernel)",
   "language": "python",
   "name": "python3"
  },
  "language_info": {
   "codemirror_mode": {
    "name": "ipython",
    "version": 3
   },
   "file_extension": ".py",
   "mimetype": "text/x-python",
   "name": "python",
   "nbconvert_exporter": "python",
   "pygments_lexer": "ipython3",
   "version": "3.11.8"
  }
 },
 "nbformat": 4,
 "nbformat_minor": 5
}
